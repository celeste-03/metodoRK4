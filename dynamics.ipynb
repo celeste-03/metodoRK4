{
 "cells": [
  {
   "cell_type": "markdown",
   "metadata": {},
   "source": [
    "# Sistemas dinámicos"
   ]
  },
  {
   "cell_type": "markdown",
   "metadata": {},
   "source": [
    "Los sistemas dinámicos son modelos de suma importancia en las ciencias. En general, un modelo dinámico intenta resolver la trayectoria temporal de alguna cantidad física como función de algún generador dinámico; este último usualmente representado de forma funcional.\n",
    "\n",
    "En algunos casos, podemos modelar la dinámica de un estado genérico $y$ mediante la ecuación dinámica\n",
    "\\begin{equation}\n",
    "\\frac{dy}{dt} = f(t, y),\n",
    "\\end{equation}\n",
    "sujeta a la condición inicial\n",
    "\\begin{equation}\n",
    "y(t_0) = y_0.\n",
    "\\end{equation}\n",
    "\n",
    "En esta notación, $y$ corresponde a un estado del sistema. Este estado puede ser representado mediante diferentes objetos matemáticos: desde cantidades escalares hasta matrices que representan cierto operador lineal. En la ecuación anterior, $t$ corresponde a la variable temporal.\n",
    "\n",
    "El problema dinámico descrito anteriormente es usualmente conocido en el campo de las matemáticas aplicadas como **problema de condición inicial**. "
   ]
  },
  {
   "cell_type": "markdown",
   "metadata": {},
   "source": [
    "#### Laboratorio\n",
    "\n",
    "Este tipo de problemas, el cual corresponde a algún modelo dinámico (para nombrar algunos ejemplos: sistemas electromagnéticos, dinámica de fluidos, sistemas caóticos, sistemas cuánticos, entre otros) será tema del curso más adelante. En este laboratorio, nuestro objetivo es aplicar conceptos de programación en `Python` utilizando `Jupyter Notebook`s para resolver el problema dinámico."
   ]
  },
  {
   "cell_type": "markdown",
   "metadata": {},
   "source": [
    "### Breve introducción a `Numpy`\n",
    "\n",
    "En cálculos referentes a ciencia aplicada, una de las bibliotecas más importantes para diseñar aplicaciones científicas en `Python` es `Numpy`. `Numpy` está estructurado como un módulo, que debe ser importado para su uso.\n",
    "\n",
    "Esto se realiza mediante la cláusula:"
   ]
  },
  {
   "cell_type": "code",
   "execution_count": 1,
   "metadata": {},
   "outputs": [],
   "source": [
    "import numpy as np"
   ]
  },
  {
   "cell_type": "markdown",
   "metadata": {},
   "source": [
    "La cláusula `import` importa el módulo a nuestro ambiente de programación, mientras que el *keyword* `as` implica que usaremos un acrónimo para invocar la funcionalidad del módulo; con el simple objetivo de no escribir la palabra `numpy` antes de cada función que invoquemos.\n",
    "\n",
    "El objeto más importante del módulo `Numpy` es el `numpy.ndarray`. Este objeto es un contenedor (estructura de datos) que representa objetos como vectores, matrices o tensores. \n",
    "\n",
    "El constructor (estudiaremos contructores más adelante), se invoca pasando como argumento un `Python` `list`. Veamos por ejemplo como construir una matriz identidad 2x2 con esta estructura:"
   ]
  },
  {
   "cell_type": "code",
   "execution_count": 2,
   "metadata": {},
   "outputs": [
    {
     "name": "stdout",
     "output_type": "stream",
     "text": [
      "[[1 0]\n",
      " [0 1]]\n"
     ]
    }
   ],
   "source": [
    "identityMatrix = np.array([[1,0], [0,1]])\n",
    "\n",
    "print(identityMatrix)"
   ]
  },
  {
   "cell_type": "markdown",
   "metadata": {},
   "source": [
    "Note que pasamos una lista de listas para crear un objeto de mayor dimensión; i.e, una matrix. Los objetos creados con `np.array` contienen varias propiedades, tales como su tamaño y dichos atributos se accesan mediante el operador `.`:"
   ]
  },
  {
   "cell_type": "code",
   "execution_count": 3,
   "metadata": {},
   "outputs": [
    {
     "data": {
      "text/plain": [
       "(2, 2)"
      ]
     },
     "execution_count": 3,
     "metadata": {},
     "output_type": "execute_result"
    }
   ],
   "source": [
    "identityMatrix.shape"
   ]
  },
  {
   "cell_type": "markdown",
   "metadata": {},
   "source": [
    "Los objetos se pueden operar matemáticamente de forma sencilla:"
   ]
  },
  {
   "cell_type": "code",
   "execution_count": 4,
   "metadata": {},
   "outputs": [
    {
     "data": {
      "text/plain": [
       "array([[2, 0],\n",
       "       [0, 2]])"
      ]
     },
     "execution_count": 4,
     "metadata": {},
     "output_type": "execute_result"
    }
   ],
   "source": [
    "identityMatrix + identityMatrix"
   ]
  },
  {
   "cell_type": "code",
   "execution_count": 5,
   "metadata": {},
   "outputs": [
    {
     "data": {
      "text/plain": [
       "array([[1, 0],\n",
       "       [0, 1]])"
      ]
     },
     "execution_count": 5,
     "metadata": {},
     "output_type": "execute_result"
    }
   ],
   "source": [
    "aEx = np.array([[0,1], [1,0]])\n",
    "\n",
    "np.dot(aEx, aEx ) # El producto matricial A*B"
   ]
  },
  {
   "cell_type": "markdown",
   "metadata": {},
   "source": [
    "La documentación de `Numpy` se puede accesar mediante su página de referencia:\n",
    "[NumPy](https://numpy.org)"
   ]
  },
  {
   "cell_type": "markdown",
   "metadata": {},
   "source": [
    "## Soluciones a sistemas dinámicos\n",
    "\n",
    "Los sistemas dinámicos y las soluciones numéricas a ecuaciones diferenciales son un tema importante de este curso que será estudiado más adelante. De momento, queremos utilizar este problema para familiarizarnos con el ambiente de programación científica."
   ]
  },
  {
   "cell_type": "markdown",
   "metadata": {},
   "source": [
    "Lo primero que vamos a hacer es describir el método numérico que vamos a utilizar para implementar la solución.\n",
    "\n",
    "Vamos a utilizar el método Runge-Kutta de orden 4 para resolver el problema."
   ]
  },
  {
   "cell_type": "markdown",
   "metadata": {},
   "source": [
    "## Método Runge-Kutta de orden 4 (RK4)\n",
    "\n",
    "Escriba las ecuaciones del método numérico utilizando LateX embedido en una celda de Markdown:"
   ]
  },
  {
   "cell_type": "markdown",
   "metadata": {},
   "source": [
    "$$\n",
    "\\begin{equation}\n",
    "\\begin{aligned}\n",
    "k_1 = hf(t_n,y)\\\\\n",
    "k_2 = hf(y_n+ \\frac{k_1}{2},t + \\frac{h}{2}), \\\\\n",
    "k_3 = hf(y_n+ \\frac{k_2}{2},t + \\frac{h}{2}), \\\\\n",
    "k_4 = hf(y_n+ k_3,t_n + h)\\\\\n",
    "y_n(t+h) = y(t) + \\frac{1}{6} (k_1+ 2k_2 + 2k_3 +k_4)\n",
    "\\end{aligned}\n",
    "\\end{equation}\n",
    "$$\n",
    "\n",
    "\n"
   ]
  },
  {
   "cell_type": "markdown",
   "metadata": {},
   "source": [
    "## Ejemplo\n",
    "\n",
    "Armados con esta metodología vamos a estudiar la solución de un problema dinámico genérico.\n",
    "\n",
    "Asumamos que queremos estudiar la evolución temporal de un estado $\\mathbf{y}(t)$. Este estado será representado mediante una matriz 2x2 que corresponde a algún operador lineal. La función que genra la dinámica del problema es \n",
    "$$\n",
    "f(t, \\mathbf{y}) = -{\\rm{i}} [\\mathbf{O}, \\mathbf{y}(t)],\n",
    "$$\n",
    "donde $\\mathbf{O}$ es otro operador lineal, ${\\rm{i}}$ es la constante compleja y $[A, B] = AB - BA$ es un operación de conmutación. Note que **la función $f(t, \\mathbf{y})$ no depende explícitamente de la variable temporal**.\n",
    "\n",
    "En Python, la constante compleja se denota mediante:"
   ]
  },
  {
   "cell_type": "code",
   "execution_count": 6,
   "metadata": {},
   "outputs": [
    {
     "name": "stdout",
     "output_type": "stream",
     "text": [
      "1j\n"
     ]
    }
   ],
   "source": [
    "iConst = 1.0j\n",
    "\n",
    "print(iConst)"
   ]
  },
  {
   "cell_type": "markdown",
   "metadata": {},
   "source": [
    "La dinámica del problema depende intrínsicamente del operador $\\mathbf{O}$. Escojamos el siguiente operador:"
   ]
  },
  {
   "cell_type": "code",
   "execution_count": 7,
   "metadata": {},
   "outputs": [
    {
     "name": "stdout",
     "output_type": "stream",
     "text": [
      "[[0 1]\n",
      " [1 0]]\n"
     ]
    }
   ],
   "source": [
    "oOper = np.array([[0, 1], [1, 0]])\n",
    "\n",
    "print(oOper)"
   ]
  },
  {
   "cell_type": "markdown",
   "metadata": {},
   "source": [
    "Dicho operador puede tener distintos significados físicos dependiendo del problema dinámico en cuestión. Puede representar un mapa algebraico, el generador dinámico de un sistema caótico, un Hamiltoniano, etc. "
   ]
  },
  {
   "cell_type": "markdown",
   "metadata": {},
   "source": [
    "Lo siguiente es difinir un estado inicial. De igual forma, dicho estado puede representar cantidades físicas de un sistema. Consideremos:"
   ]
  },
  {
   "cell_type": "code",
   "execution_count": 8,
   "metadata": {},
   "outputs": [
    {
     "name": "stdout",
     "output_type": "stream",
     "text": [
      "[[1 0]\n",
      " [0 0]]\n"
     ]
    }
   ],
   "source": [
    "yInit = np.array([[1, 0], [0, 0]])\n",
    "\n",
    "print(yInit)"
   ]
  },
  {
   "cell_type": "markdown",
   "metadata": {},
   "source": [
    "Note que el operador $\\mathbf{O}$ no es diagonal, por lo cual esperamos que conforme avanza el tiempo, dicho operador modifica el estado $\\mathbf{y}(t)$.\n",
    "\n",
    "Implementemos la función $f(t, \\mathbf{y})$ en Python. Para esto puede utilizar la función [np.dot](https://numpy.org/doc/stable/reference/generated/numpy.dot.html)"
   ]
  },
  {
   "cell_type": "code",
   "execution_count": 9,
   "metadata": {},
   "outputs": [],
   "source": [
    "# Su código aquí\n",
    "# El keyword pass está aquí para que la celda pueda ser interpretada sin necesidad de\n",
    "# tener la función implementada. Su tarea es borrar el pass e implementar la función\n",
    "def dyn_generator(oper, state):\n",
    "    return -1*1.0j*(np.dot(oper,state)-np.dot(state,oper))\n",
    "  "
   ]
  },
  {
   "cell_type": "code",
   "execution_count": 10,
   "metadata": {
    "scrolled": true
   },
   "outputs": [
    {
     "name": "stdout",
     "output_type": "stream",
     "text": [
      "[[0.-0.j 0.+1.j]\n",
      " [0.-1.j 0.-0.j]]\n"
     ]
    }
   ],
   "source": [
    "# Su código aquí\n",
    "# El keyword pass está aquí para que la celda pueda ser interpretada sin necesidad de\n",
    "# tener la función implementada. Su tarea es borrar el pass e implementar la función\n",
    "print(dyn_generator(oOper, yInit))\n",
    "   "
   ]
  },
  {
   "cell_type": "markdown",
   "metadata": {},
   "source": [
    "Ahora tenemos que implementar la función que realiza la operación dinámica en `Python`. Escriba una función que implementa el método RK4:"
   ]
  },
  {
   "cell_type": "code",
   "execution_count": 11,
   "metadata": {},
   "outputs": [],
   "source": [
    "def rk4(func, oper, state, h):\n",
    "    k_1= h*func(oper,state)\n",
    "    k_2=h*func(oper,state+k_1/2)\n",
    "    k_3=h*func(oper,state+k_2/2)\n",
    "    k_4=h*func(oper,state+k_3)\n",
    "    return state+1/6*(k_1+2*k_2+2*k_3+k_4)"
   ]
  },
  {
   "cell_type": "code",
   "execution_count": 12,
   "metadata": {},
   "outputs": [
    {
     "name": "stdout",
     "output_type": "stream",
     "text": [
      "[[0.77083333+0.j         0.        +0.41666667j]\n",
      " [0.        -0.41666667j 0.22916667+0.j        ]]\n"
     ]
    }
   ],
   "source": [
    "print(rk4(dyn_generator,oOper, yInit,0.5))"
   ]
  },
  {
   "cell_type": "markdown",
   "metadata": {},
   "source": [
    "Con estas funciones a nuestra disposición, podemos evaluar la dinámica temporal en una grilla temporal unidimensional. Utilice la función [np.linspace](https://numpy.org/doc/stable/reference/generated/numpy.linspace.html) para crear un arreglo de valores temporales:"
   ]
  },
  {
   "cell_type": "code",
   "execution_count": 13,
   "metadata": {},
   "outputs": [],
   "source": [
    "# Su código aquí\n",
    "# Utilice el nombre \"times\" para la variable que contiene el arreglo de valores temporales\n",
    "# Utilice un valor final de t = 10.0\n",
    "times=np.linspace(0,10,num=100)"
   ]
  },
  {
   "cell_type": "markdown",
   "metadata": {},
   "source": [
    "Note que dicha función genera un arreglo con valores temporales homogéneos. Cual sería el valor de $h$?"
   ]
  },
  {
   "cell_type": "code",
   "execution_count": 14,
   "metadata": {},
   "outputs": [],
   "source": [
    "# Su código aquí\n",
    "# Utilice el nombre \"h\" para la variable que contiene el paso temporal\n",
    "h=times[1]"
   ]
  },
  {
   "cell_type": "markdown",
   "metadata": {},
   "source": [
    "Ahora creamos una rutina para realizar la evolución temporal. Primero, necesitamos una copia del operador que representa el estado inicial. Esto se puede hacer con el método `copy()` del módulo `numpy`:"
   ]
  },
  {
   "cell_type": "code",
   "execution_count": 15,
   "metadata": {},
   "outputs": [],
   "source": [
    "# Haga un deep copy de yInit y llamele yCopy\n",
    "# Los deep copies son muy importantes, analizaremos esto más adelante en el curso\n",
    "yCopy = yInit.copy()"
   ]
  },
  {
   "cell_type": "markdown",
   "metadata": {},
   "source": [
    "Y, finalmente, llamamos de manera iterativa la rutina `rk4()`, calculando el operador del estado del sistema $\\mathbf{y}(t)$ a través del tiempo. A travéz del tiempo, vamos a guardar la entrada $(0, 0)$ y $(1, 1)$ de la matriz $\\mathbf{y}(t)$. \n",
    "\n",
    "Para esto, vamos a inicializar dos arreglos que van a contener los valores con valores iniciales cero. Utilizamos el mismo tamaño del arreglo que contiene la variable independiente temporal: "
   ]
  },
  {
   "cell_type": "code",
   "execution_count": 16,
   "metadata": {},
   "outputs": [],
   "source": [
    "stateQuant00 = np.zeros(times.size)\n",
    "stateQuant11 = np.zeros(times.size)"
   ]
  },
  {
   "cell_type": "markdown",
   "metadata": {},
   "source": [
    "Rutina principal: esta rutina realiza la evolución temporal."
   ]
  },
  {
   "cell_type": "code",
   "execution_count": 17,
   "metadata": {},
   "outputs": [],
   "source": [
    "for tt in range(times.size):\n",
    "    # Guarde el valor de las entradas (0,0) y (1,1) en los arreglos que definimos\n",
    "    # Obtenga estos valores de las entradas de yInit\n",
    "    # Código aquí ->\n",
    "    stateQuant00[tt]=yInit[0,0].real\n",
    "    stateQuant11[tt]=yInit[1,1].real\n",
    "    \n",
    "    \n",
    "    # Invoque rk4 operando sobre yInit\n",
    "    # y devuelva el resultado a un nuevo yN\n",
    "    # Código aquí ->\n",
    "    yN=rk4(dyn_generator,oOper, yInit,h)\n",
    "    # Ahora asignamos yN a yInit\n",
    "    # De esta manera, en la siguiente iteración, el operador de esta iteración se convierte en el inicial\n",
    "    # de la siguiente iteración\n",
    "    yInit = yN"
   ]
  },
  {
   "cell_type": "markdown",
   "metadata": {},
   "source": [
    "Hagamos un gráfico de los resultados usando `matplotlib`:"
   ]
  },
  {
   "cell_type": "code",
   "execution_count": 18,
   "metadata": {},
   "outputs": [
    {
     "data": {
      "image/png": "[encoded data removed]",
      "text/plain": [
       "<Figure size 200x200 with 1 Axes>"
      ]
     },
     "metadata": {},
     "output_type": "display_data"
    }
   ],
   "source": [
    "import matplotlib.pyplot as plt\n",
    "\n",
    "plt.style.use('_mpl-gallery')\n",
    "\n",
    "# make data\n",
    "y = stateQuant00\n",
    "x = times\n",
    "y2 = stateQuant11\n",
    "x2 = times\n",
    "\n",
    "# plot\n",
    "fig, ax = plt.subplots()\n",
    "\n",
    "ax.plot(x2, y2, 'x', markeredgewidth=2)\n",
    "ax.plot(x, y, linewidth=2.0)\n",
    "\n",
    "def rk4(func, oper, state, h):\n",
    "    k_1= h*func(oper,state)\n",
    "    k_2=h*func(oper,state+k_1/2)\n",
    "    k_3=h*func(oper,state+k_2/2)\n",
    "    k_4=h*func(oper,state+k_3)\n",
    "    return state+1/6*(k_1+2*k_2+2*k_3+k_4)\n",
    "plt.show()\n",
    "\n",
    "plt.savefig('docs/grafica_rk4.png')  # Guardar la gráfica en la carpeta docs\n",
    "plt.show()  # Mostrar la gráfica en Jupyter\n",
    "\n",
    "# Código aquí ->\n",
    "# Juegue con el valor de h para probar que utilizando valores grandes de h la dinámica se vuelve inestable"
   ]
  },
  {
   "cell_type": "code",
   "execution_count": null,
   "metadata": {},
   "outputs": [],
   "source": []
  }
 ],
 "metadata": {
  "anaconda-cloud": {},
  "kernelspec": {
   "display_name": "Python 3 (ipykernel)",
   "language": "python",
   "name": "python3"
  },
  "language_info": {
   "codemirror_mode": {
    "name": "ipython",
    "version": 3
   },
   "file_extension": ".py",
   "mimetype": "text/x-python",
   "name": "python",
   "nbconvert_exporter": "python",
   "pygments_lexer": "ipython3",
   "version": "3.12.3"
  }
 },
 "nbformat": 4,
 "nbformat_minor": 4
}
